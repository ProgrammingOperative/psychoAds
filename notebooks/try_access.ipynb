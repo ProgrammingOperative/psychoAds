{
 "cells": [
  {
   "cell_type": "code",
   "execution_count": 42,
   "metadata": {},
   "outputs": [],
   "source": [
    "from google.ads.googleads.client import GoogleAdsClient\n",
    "from google.ads.googleads.errors import GoogleAdsException\n",
    "import sys\n"
   ]
  },
  {
   "cell_type": "code",
   "execution_count": 38,
   "metadata": {},
   "outputs": [],
   "source": [
    "client_config_path = '../configs/google-ads.yaml'\n",
    "\n",
    "customer_id = '2394041082'\n",
    "\n",
    "query = \"\"\"\n",
    "        SELECT\n",
    "          campaign.id,\n",
    "          campaign.name\n",
    "        FROM campaign\n",
    "        ORDER BY campaign.id\"\"\""
   ]
  },
  {
   "cell_type": "code",
   "execution_count": 40,
   "metadata": {},
   "outputs": [],
   "source": [
    "def list_campaigns(client_configs_path:str, customer_id:str, query):\n",
    "\n",
    "    try:\n",
    "        client = GoogleAdsClient.load_from_storage(client_configs_path)\n",
    "        ga_service = client.get_service(\"GoogleAdsService\")\n",
    "        stream = ga_service.search_stream(customer_id=customer_id, query=query)\n",
    "\n",
    "        for batch in stream:\n",
    "            for row in batch.results:\n",
    "                print(\n",
    "                    f\"Campaign with ID {row.campaign.id} and name \"\n",
    "                    f'\"{row.campaign.name}\" was found.'\n",
    "                    )\n",
    "    except GoogleAdsException as ex:\n",
    "        print(\n",
    "            f'Request with ID \"{ex.request_id}\" failed with status '\n",
    "            f'\"{ex.error.code().name}\" and includes the following errors:'\n",
    "        )\n",
    "        for error in ex.failure.errors:\n",
    "            print(f'\\tError with message \"{error.message}\".')\n",
    "            if error.location:\n",
    "                for field_path_element in error.location.field_path_elements:\n",
    "                    print(f\"\\t\\tOn field: {field_path_element.field_name}\")\n",
    "        sys.exit(1)\n",
    "\n",
    "\n",
    "    "
   ]
  },
  {
   "cell_type": "code",
   "execution_count": 39,
   "metadata": {},
   "outputs": [
    {
     "name": "stdout",
     "output_type": "stream",
     "text": [
      "Campaign with ID 20339208672 and name \"Get to know Wrens\" was found.\n",
      "Campaign with ID 20344006256 and name \"optimalTraffic\" was found.\n"
     ]
    }
   ],
   "source": [
    "list_campaigns(client_config_path, customer_id, query)"
   ]
  }
 ],
 "metadata": {
  "kernelspec": {
   "display_name": "google_ads",
   "language": "python",
   "name": "python3"
  },
  "language_info": {
   "codemirror_mode": {
    "name": "ipython",
    "version": 3
   },
   "file_extension": ".py",
   "mimetype": "text/x-python",
   "name": "python",
   "nbconvert_exporter": "python",
   "pygments_lexer": "ipython3",
   "version": "3.11.4"
  },
  "orig_nbformat": 4
 },
 "nbformat": 4,
 "nbformat_minor": 2
}
